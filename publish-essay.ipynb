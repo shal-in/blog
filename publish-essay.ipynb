{
 "cells": [
  {
   "cell_type": "markdown",
   "metadata": {},
   "source": [
    "Workflow:\n",
    "1. Create HTML content body and HTML template. Test it\n",
    "2. Create meta tags for HTML\n",
    "3. Update index page\n",
    "4. Add to DB\n",
    "5. Test"
   ]
  }
 ],
 "metadata": {
  "kernelspec": {
   "display_name": "venv",
   "language": "python",
   "name": "python3"
  },
  "language_info": {
   "name": "python",
   "version": "3.13.0"
  }
 },
 "nbformat": 4,
 "nbformat_minor": 2
}
